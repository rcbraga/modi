{
 "cells": [
  {
   "cell_type": "code",
   "execution_count": 1,
   "metadata": {},
   "outputs": [
    {
     "name": "stderr",
     "output_type": "stream",
     "text": [
      "/datadrive/miniconda3/envs/ia-3.8/lib/python3.8/site-packages/tqdm/std.py:703: FutureWarning: The Panel class is removed from pandas. Accessing it from the top-level namespace will also be removed in the next version\n",
      "  from pandas import Panel\n"
     ]
    }
   ],
   "source": [
    "from func.general import *"
   ]
  },
  {
   "cell_type": "code",
   "execution_count": 2,
   "metadata": {},
   "outputs": [],
   "source": [
    "df = pd.read_csv(\"data/solubility.csv\")\n",
    "df[\"Solubility\"] = np.where(df[\"Solubility\"] > -4.5, \"Insoluble\", \"Soluble\")\n",
    "df = df[[\"SMILES\", \"Solubility\"]]"
   ]
  },
  {
   "cell_type": "code",
   "execution_count": 3,
   "metadata": {},
   "outputs": [
    {
     "data": {
      "text/html": [
       "<div>\n",
       "<style scoped>\n",
       "    .dataframe tbody tr th:only-of-type {\n",
       "        vertical-align: middle;\n",
       "    }\n",
       "\n",
       "    .dataframe tbody tr th {\n",
       "        vertical-align: top;\n",
       "    }\n",
       "\n",
       "    .dataframe thead th {\n",
       "        text-align: right;\n",
       "    }\n",
       "</style>\n",
       "<table border=\"1\" class=\"dataframe\">\n",
       "  <thead>\n",
       "    <tr style=\"text-align: right;\">\n",
       "      <th></th>\n",
       "      <th>SMILES</th>\n",
       "      <th>Solubility</th>\n",
       "    </tr>\n",
       "  </thead>\n",
       "  <tbody>\n",
       "    <tr>\n",
       "      <th>0</th>\n",
       "      <td>Fc1ccc(cc1)C(=O)c2ccc(F)cc2</td>\n",
       "      <td>Insoluble</td>\n",
       "    </tr>\n",
       "    <tr>\n",
       "      <th>1</th>\n",
       "      <td>O=C(OCCCOCCCOC(=O)c1ccccc1)c2ccccc2</td>\n",
       "      <td>Soluble</td>\n",
       "    </tr>\n",
       "    <tr>\n",
       "      <th>2</th>\n",
       "      <td>Cc1ccc(O)c(C)c1.Cc2ccc(C)c(O)c2.Cc3cc(C)cc(O)c...</td>\n",
       "      <td>Insoluble</td>\n",
       "    </tr>\n",
       "    <tr>\n",
       "      <th>3</th>\n",
       "      <td>CC(C)=CCC\\C(C)=C/CO</td>\n",
       "      <td>Insoluble</td>\n",
       "    </tr>\n",
       "    <tr>\n",
       "      <th>4</th>\n",
       "      <td>CC(Oc1ccc(Cl)cc1C)C(O)=O</td>\n",
       "      <td>Insoluble</td>\n",
       "    </tr>\n",
       "    <tr>\n",
       "      <th>...</th>\n",
       "      <td>...</td>\n",
       "      <td>...</td>\n",
       "    </tr>\n",
       "    <tr>\n",
       "      <th>1813</th>\n",
       "      <td>C1CN(CCN1)c1c(cc2c(n(cc(C(=O)O)c2=O)c2ccc(cc2)...</td>\n",
       "      <td>Insoluble</td>\n",
       "    </tr>\n",
       "    <tr>\n",
       "      <th>1814</th>\n",
       "      <td>S(=O)(=O)(Nc1nc(C)cc(n1)C)c1ccc(N)cc1</td>\n",
       "      <td>Insoluble</td>\n",
       "    </tr>\n",
       "    <tr>\n",
       "      <th>1815</th>\n",
       "      <td>CC1=C(CC(O)=O)c2cc(F)ccc2C\\1=C\\c1ccc(cc1)S(C)=O</td>\n",
       "      <td>Soluble</td>\n",
       "    </tr>\n",
       "    <tr>\n",
       "      <th>1816</th>\n",
       "      <td>c1(cc(ccc1C(C)C)C)O</td>\n",
       "      <td>Insoluble</td>\n",
       "    </tr>\n",
       "    <tr>\n",
       "      <th>1817</th>\n",
       "      <td>CC(=O)CC(c1ccccc1)c1c(O)c2ccccc2oc1=O</td>\n",
       "      <td>Soluble</td>\n",
       "    </tr>\n",
       "  </tbody>\n",
       "</table>\n",
       "<p>1818 rows × 2 columns</p>\n",
       "</div>"
      ],
      "text/plain": [
       "                                                 SMILES Solubility\n",
       "0                           Fc1ccc(cc1)C(=O)c2ccc(F)cc2  Insoluble\n",
       "1                   O=C(OCCCOCCCOC(=O)c1ccccc1)c2ccccc2    Soluble\n",
       "2     Cc1ccc(O)c(C)c1.Cc2ccc(C)c(O)c2.Cc3cc(C)cc(O)c...  Insoluble\n",
       "3                                   CC(C)=CCC\\C(C)=C/CO  Insoluble\n",
       "4                              CC(Oc1ccc(Cl)cc1C)C(O)=O  Insoluble\n",
       "...                                                 ...        ...\n",
       "1813  C1CN(CCN1)c1c(cc2c(n(cc(C(=O)O)c2=O)c2ccc(cc2)...  Insoluble\n",
       "1814              S(=O)(=O)(Nc1nc(C)cc(n1)C)c1ccc(N)cc1  Insoluble\n",
       "1815    CC1=C(CC(O)=O)c2cc(F)ccc2C\\1=C\\c1ccc(cc1)S(C)=O    Soluble\n",
       "1816                                c1(cc(ccc1C(C)C)C)O  Insoluble\n",
       "1817              CC(=O)CC(c1ccccc1)c1c(O)c2ccccc2oc1=O    Soluble\n",
       "\n",
       "[1818 rows x 2 columns]"
      ]
     },
     "execution_count": 3,
     "metadata": {},
     "output_type": "execute_result"
    }
   ],
   "source": [
    "df"
   ]
  },
  {
   "cell_type": "code",
   "execution_count": 4,
   "metadata": {},
   "outputs": [
    {
     "name": "stderr",
     "output_type": "stream",
     "text": [
      "[21:48:28] WARNING: not removing hydrogen atom without neighbors\n",
      "[21:48:28] WARNING: not removing hydrogen atom without neighbors\n",
      "[21:48:28] WARNING: not removing hydrogen atom without neighbors\n",
      "[21:48:28] WARNING: not removing hydrogen atom without neighbors\n",
      "[21:48:28] WARNING: not removing hydrogen atom without neighbors\n",
      "[21:48:28] WARNING: not removing hydrogen atom without neighbors\n",
      "[21:48:28] WARNING: not removing hydrogen atom without neighbors\n"
     ]
    },
    {
     "data": {
      "application/vnd.jupyter.widget-view+json": {
       "model_id": "a74f55a4be394f01b8bde90f463d0af2",
       "version_major": 2,
       "version_minor": 0
      },
      "text/plain": [
       "HBox(children=(HTML(value=''), FloatProgress(value=0.0, max=1818.0), HTML(value='')))"
      ]
     },
     "metadata": {},
     "output_type": "display_data"
    },
    {
     "name": "stdout",
     "output_type": "stream",
     "text": [
      "\n",
      "MODI = 0.8596491228070176\n"
     ]
    }
   ],
   "source": [
    "MODI = modi(df , 'Solubility', descriptor = \"maccs\" )\n",
    "print(\"MODI = {}\".format(MODI))"
   ]
  },
  {
   "cell_type": "code",
   "execution_count": 5,
   "metadata": {},
   "outputs": [
    {
     "name": "stderr",
     "output_type": "stream",
     "text": [
      "[21:48:32] WARNING: not removing hydrogen atom without neighbors\n",
      "[21:48:32] WARNING: not removing hydrogen atom without neighbors\n",
      "[21:48:32] WARNING: not removing hydrogen atom without neighbors\n",
      "[21:48:32] WARNING: not removing hydrogen atom without neighbors\n",
      "[21:48:32] WARNING: not removing hydrogen atom without neighbors\n",
      "[21:48:32] WARNING: not removing hydrogen atom without neighbors\n",
      "[21:48:32] WARNING: not removing hydrogen atom without neighbors\n"
     ]
    },
    {
     "data": {
      "application/vnd.jupyter.widget-view+json": {
       "model_id": "9762f579646d4e52b80c69c612cc04e1",
       "version_major": 2,
       "version_minor": 0
      },
      "text/plain": [
       "HBox(children=(HTML(value=''), FloatProgress(value=0.0, max=1818.0), HTML(value='')))"
      ]
     },
     "metadata": {},
     "output_type": "display_data"
    },
    {
     "name": "stdout",
     "output_type": "stream",
     "text": [
      "\n",
      "MODI = 0.8349780701754386\n"
     ]
    }
   ],
   "source": [
    "MODI = modi(df , 'Solubility', descriptor = \"morgan\" )\n",
    "print(\"MODI = {}\".format(MODI))"
   ]
  },
  {
   "cell_type": "code",
   "execution_count": 4,
   "metadata": {},
   "outputs": [
    {
     "name": "stderr",
     "output_type": "stream",
     "text": [
      "[21:53:56] WARNING: not removing hydrogen atom without neighbors\n",
      "[21:53:56] WARNING: not removing hydrogen atom without neighbors\n",
      "[21:53:56] WARNING: not removing hydrogen atom without neighbors\n",
      "[21:53:56] WARNING: not removing hydrogen atom without neighbors\n",
      "[21:53:56] WARNING: not removing hydrogen atom without neighbors\n",
      "[21:53:56] WARNING: not removing hydrogen atom without neighbors\n",
      "[21:53:56] WARNING: not removing hydrogen atom without neighbors\n"
     ]
    },
    {
     "data": {
      "application/vnd.jupyter.widget-view+json": {
       "model_id": "df3eee9863534cdeac1a87aa65034bc1",
       "version_major": 2,
       "version_minor": 0
      },
      "text/plain": [
       "HBox(children=(HTML(value=''), FloatProgress(value=0.0, max=1818.0), HTML(value='')))"
      ]
     },
     "metadata": {},
     "output_type": "display_data"
    },
    {
     "name": "stdout",
     "output_type": "stream",
     "text": [
      "\n",
      "MODI = 0.8442982456140351\n"
     ]
    }
   ],
   "source": [
    "MODI = modi(df , 'Solubility', descriptor = \"morgan4\" )\n",
    "print(\"MODI = {}\".format(MODI))"
   ]
  }
 ],
 "metadata": {
  "interpreter": {
   "hash": "0392b36590354171fc10e3f42bd1bdb1d124bce16076a9543ab3ca2d5aa37877"
  },
  "kernelspec": {
   "display_name": "Python 3.8.13 ('ia-3.8')",
   "language": "python",
   "name": "python3"
  },
  "language_info": {
   "codemirror_mode": {
    "name": "ipython",
    "version": 3
   },
   "file_extension": ".py",
   "mimetype": "text/x-python",
   "name": "python",
   "nbconvert_exporter": "python",
   "pygments_lexer": "ipython3",
   "version": "3.8.13"
  },
  "orig_nbformat": 4
 },
 "nbformat": 4,
 "nbformat_minor": 2
}
