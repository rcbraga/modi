{
 "cells": [
  {
   "cell_type": "markdown",
   "metadata": {},
   "source": [
    "# imports necessary to use the MODelability Index (MODI)"
   ]
  },
  {
   "cell_type": "code",
   "execution_count": 2,
   "metadata": {},
   "outputs": [],
   "source": [
    "import sys,os\n",
    "try: \n",
    "    if(cwd is not None):\n",
    "        from funcs.general import *\n",
    "except:\n",
    "    %cd ..\n",
    "    cwd = os.getcwd()\n",
    "    sys.path.insert(0,cwd)\n",
    "    from funcs.general import *     "
   ]
  },
  {
   "cell_type": "markdown",
   "metadata": {},
   "source": [
    "# Prepare classifcation binary data "
   ]
  },
  {
   "cell_type": "code",
   "execution_count": 4,
   "metadata": {},
   "outputs": [],
   "source": [
    "df = pd.read_csv(\"data/solubility.csv\")\n",
    "df[\"Solubility\"] = np.where(df[\"Solubility\"] > -4.5, \"Insoluble\", \"Soluble\")\n",
    "df = df[[\"SMILES\", \"Solubility\"]]"
   ]
  },
  {
   "cell_type": "markdown",
   "metadata": {},
   "source": [
    "## MODI for MAACS Fingerprint"
   ]
  },
  {
   "cell_type": "code",
   "execution_count": 6,
   "metadata": {},
   "outputs": [
    {
     "name": "stderr",
     "output_type": "stream",
     "text": [
      "[10:01:07] WARNING: not removing hydrogen atom without neighbors\n",
      "[10:01:07] WARNING: not removing hydrogen atom without neighbors\n",
      "[10:01:07] WARNING: not removing hydrogen atom without neighbors\n",
      "[10:01:07] WARNING: not removing hydrogen atom without neighbors\n",
      "[10:01:07] WARNING: not removing hydrogen atom without neighbors\n",
      "[10:01:07] WARNING: not removing hydrogen atom without neighbors\n",
      "[10:01:07] WARNING: not removing hydrogen atom without neighbors\n"
     ]
    },
    {
     "data": {
      "application/vnd.jupyter.widget-view+json": {
       "model_id": "1c1654d585ba477e8d77d6c5828bf55e",
       "version_major": 2,
       "version_minor": 0
      },
      "text/plain": [
       "HBox(children=(HTML(value=''), FloatProgress(value=0.0, max=1818.0), HTML(value='')))"
      ]
     },
     "metadata": {},
     "output_type": "display_data"
    },
    {
     "name": "stdout",
     "output_type": "stream",
     "text": [
      "\n",
      "MODI = 0.8596491228070176\n"
     ]
    }
   ],
   "source": [
    "MODI = modi(df , 'Solubility', descriptor = \"maccs\" )\n",
    "print(\"MODI = {}\".format(MODI))"
   ]
  },
  {
   "cell_type": "markdown",
   "metadata": {},
   "source": [
    "## MODI for Morgan Fingerprint "
   ]
  },
  {
   "cell_type": "code",
   "execution_count": 7,
   "metadata": {},
   "outputs": [
    {
     "name": "stderr",
     "output_type": "stream",
     "text": [
      "[10:01:10] WARNING: not removing hydrogen atom without neighbors\n",
      "[10:01:10] WARNING: not removing hydrogen atom without neighbors\n",
      "[10:01:10] WARNING: not removing hydrogen atom without neighbors\n",
      "[10:01:10] WARNING: not removing hydrogen atom without neighbors\n",
      "[10:01:10] WARNING: not removing hydrogen atom without neighbors\n",
      "[10:01:10] WARNING: not removing hydrogen atom without neighbors\n",
      "[10:01:10] WARNING: not removing hydrogen atom without neighbors\n"
     ]
    },
    {
     "data": {
      "application/vnd.jupyter.widget-view+json": {
       "model_id": "6c19eb8c97e14e59a0975bbf4c0c1243",
       "version_major": 2,
       "version_minor": 0
      },
      "text/plain": [
       "HBox(children=(HTML(value=''), FloatProgress(value=0.0, max=1818.0), HTML(value='')))"
      ]
     },
     "metadata": {},
     "output_type": "display_data"
    },
    {
     "name": "stdout",
     "output_type": "stream",
     "text": [
      "\n",
      "MODI = 0.8349780701754386\n"
     ]
    }
   ],
   "source": [
    "MODI = modi(df , 'Solubility', descriptor = \"morgan\" )\n",
    "print(\"MODI = {}\".format(MODI))"
   ]
  },
  {
   "cell_type": "code",
   "execution_count": 8,
   "metadata": {},
   "outputs": [
    {
     "name": "stderr",
     "output_type": "stream",
     "text": [
      "[10:01:22] WARNING: not removing hydrogen atom without neighbors\n",
      "[10:01:22] WARNING: not removing hydrogen atom without neighbors\n",
      "[10:01:22] WARNING: not removing hydrogen atom without neighbors\n",
      "[10:01:22] WARNING: not removing hydrogen atom without neighbors\n",
      "[10:01:22] WARNING: not removing hydrogen atom without neighbors\n",
      "[10:01:22] WARNING: not removing hydrogen atom without neighbors\n",
      "[10:01:22] WARNING: not removing hydrogen atom without neighbors\n"
     ]
    },
    {
     "data": {
      "application/vnd.jupyter.widget-view+json": {
       "model_id": "8bd3b3426de9466f8366ee97a0ce3ded",
       "version_major": 2,
       "version_minor": 0
      },
      "text/plain": [
       "HBox(children=(HTML(value=''), FloatProgress(value=0.0, max=1818.0), HTML(value='')))"
      ]
     },
     "metadata": {},
     "output_type": "display_data"
    },
    {
     "name": "stdout",
     "output_type": "stream",
     "text": [
      "\n",
      "MODI = 0.8442982456140351\n"
     ]
    }
   ],
   "source": [
    "MODI = modi(df , 'Solubility', descriptor = \"morgan4\" )\n",
    "print(\"MODI = {}\".format(MODI))"
   ]
  },
  {
   "cell_type": "code",
   "execution_count": 6,
   "metadata": {},
   "outputs": [
    {
     "name": "stderr",
     "output_type": "stream",
     "text": [
      "[11:47:44] WARNING: not removing hydrogen atom without neighbors\n",
      "[11:47:44] WARNING: not removing hydrogen atom without neighbors\n",
      "[11:47:44] WARNING: not removing hydrogen atom without neighbors\n",
      "[11:47:44] WARNING: not removing hydrogen atom without neighbors\n",
      "[11:47:44] WARNING: not removing hydrogen atom without neighbors\n",
      "[11:47:44] WARNING: not removing hydrogen atom without neighbors\n",
      "[11:47:44] WARNING: not removing hydrogen atom without neighbors\n"
     ]
    },
    {
     "data": {
      "application/vnd.jupyter.widget-view+json": {
       "model_id": "fcd1caea007449c1a37dd1d7e732ff03",
       "version_major": 2,
       "version_minor": 0
      },
      "text/plain": [
       "HBox(children=(HTML(value=''), FloatProgress(value=0.0, max=1818.0), HTML(value='')))"
      ]
     },
     "metadata": {},
     "output_type": "display_data"
    },
    {
     "name": "stdout",
     "output_type": "stream",
     "text": [
      "\n",
      "MODI = 0.8393640350877193\n"
     ]
    }
   ],
   "source": [
    "MODI = modi(df , 'Solubility', descriptor = \"morgan_chiral2\" )\n",
    "print(\"MODI = {}\".format(MODI))"
   ]
  },
  {
   "cell_type": "code",
   "execution_count": 7,
   "metadata": {},
   "outputs": [
    {
     "name": "stderr",
     "output_type": "stream",
     "text": [
      "[11:47:57] WARNING: not removing hydrogen atom without neighbors\n",
      "[11:47:57] WARNING: not removing hydrogen atom without neighbors\n",
      "[11:47:57] WARNING: not removing hydrogen atom without neighbors\n",
      "[11:47:57] WARNING: not removing hydrogen atom without neighbors\n",
      "[11:47:57] WARNING: not removing hydrogen atom without neighbors\n",
      "[11:47:57] WARNING: not removing hydrogen atom without neighbors\n",
      "[11:47:57] WARNING: not removing hydrogen atom without neighbors\n"
     ]
    },
    {
     "data": {
      "application/vnd.jupyter.widget-view+json": {
       "model_id": "f39bccbe4776468981c548f7b5444e78",
       "version_major": 2,
       "version_minor": 0
      },
      "text/plain": [
       "HBox(children=(HTML(value=''), FloatProgress(value=0.0, max=1818.0), HTML(value='')))"
      ]
     },
     "metadata": {},
     "output_type": "display_data"
    },
    {
     "name": "stdout",
     "output_type": "stream",
     "text": [
      "\n",
      "MODI = 0.8448464912280702\n"
     ]
    }
   ],
   "source": [
    "MODI = modi(df , 'Solubility', descriptor = \"morgan_chiral4\" )\n",
    "print(\"MODI = {}\".format(MODI))"
   ]
  },
  {
   "cell_type": "markdown",
   "metadata": {},
   "source": [
    "## MODI for SiRMS Descripitor"
   ]
  },
  {
   "cell_type": "code",
   "execution_count": 5,
   "metadata": {},
   "outputs": [
    {
     "name": "stderr",
     "output_type": "stream",
     "text": [
      "[11:33:55] WARNING: not removing hydrogen atom without neighbors\n",
      "[11:33:55] WARNING: not removing hydrogen atom without neighbors\n",
      "[11:33:55] WARNING: not removing hydrogen atom without neighbors\n",
      "[11:33:55] WARNING: not removing hydrogen atom without neighbors\n",
      "[11:33:55] WARNING: not removing hydrogen atom without neighbors\n",
      "[11:33:55] WARNING: not removing hydrogen atom without neighbors\n",
      "[11:33:55] WARNING: not removing hydrogen atom without neighbors\n"
     ]
    },
    {
     "name": "stdout",
     "output_type": "stream",
     "text": [
      "MODI = 0.8420186505759737\n"
     ]
    }
   ],
   "source": [
    "MODI = modi(df , 'Solubility', descriptor = \"sirms\" )\n",
    "print(\"MODI = {}\".format(MODI))"
   ]
  }
 ],
 "metadata": {
  "interpreter": {
   "hash": "0392b36590354171fc10e3f42bd1bdb1d124bce16076a9543ab3ca2d5aa37877"
  },
  "kernelspec": {
   "display_name": "Python 3.8.13 ('ia-3.8')",
   "language": "python",
   "name": "python3"
  },
  "language_info": {
   "codemirror_mode": {
    "name": "ipython",
    "version": 3
   },
   "file_extension": ".py",
   "mimetype": "text/x-python",
   "name": "python",
   "nbconvert_exporter": "python",
   "pygments_lexer": "ipython3",
   "version": "3.8.13"
  },
  "orig_nbformat": 4
 },
 "nbformat": 4,
 "nbformat_minor": 2
}
